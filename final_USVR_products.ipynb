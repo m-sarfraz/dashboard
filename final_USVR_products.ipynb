{
  "nbformat": 4,
  "nbformat_minor": 0,
  "metadata": {
    "colab": {
      "name": "USVR.ipynb",
      "provenance": [],
      "collapsed_sections": [],
      "authorship_tag": "ABX9TyNnvvh/QRE+WIpti4h/BxE1",
      "include_colab_link": true
    },
    "kernelspec": {
      "display_name": "Python 3",
      "name": "python3"
    },
    "language_info": {
      "name": "python"
    }
  },
  "cells": [
    {
      "cell_type": "markdown",
      "metadata": {
        "id": "view-in-github",
        "colab_type": "text"
      },
      "source": [
        "<a href=\"https://colab.research.google.com/github/m-sarfraz/dashboard/blob/dashboard/final_USVR_products.ipynb\" target=\"_parent\"><img src=\"https://colab.research.google.com/assets/colab-badge.svg\" alt=\"Open In Colab\"/></a>"
      ]
    },
    {
      "cell_type": "markdown",
      "metadata": {
        "id": "76RbY5MHbs4m"
      },
      "source": [
        "***Importing Libraries for Code***"
      ]
    },
    {
      "cell_type": "code",
      "metadata": {
        "id": "nvc6XxL485DW"
      },
      "source": [
        "# Important Libraries\n",
        "import pandas as pd\n",
        "import numpy as np\n",
        "import sklearn\n",
        "from sklearn.decomposition import TruncatedSVD\n",
        "import warnings"
      ],
      "execution_count": 1,
      "outputs": []
    },
    {
      "cell_type": "markdown",
      "metadata": {
        "id": "zYsSlUqUb2il"
      },
      "source": [
        "***Importing first CSV file***\n",
        "\n",
        "1.   First file containing the data of Video Details is imported\n",
        "2.   Attributes which are not needed right now are droped for accuracy  and optimization of algorithm.\n",
        "3.   View can be seen through head function()"
      ]
    },
    {
      "cell_type": "code",
      "metadata": {
        "colab": {
          "base_uri": "https://localhost:8080/",
          "height": 362
        },
        "id": "3BC0e7zn892I",
        "outputId": "8bdf170c-56e1-4304-e5a7-f5db3924e8e4"
      },
      "source": [
        "products = pd.read_csv(r'ProductDetail.csv', sep=',')\n",
        "products = products.iloc[:, :10]\n",
        "products = products.drop(columns=['Category-id', 'Product-code','Product-color','description','care','status','price','weight'])\n",
        "products.head(10)"
      ],
      "execution_count": 4,
      "outputs": [
        {
          "output_type": "execute_result",
          "data": {
            "text/html": [
              "<div>\n",
              "<style scoped>\n",
              "    .dataframe tbody tr th:only-of-type {\n",
              "        vertical-align: middle;\n",
              "    }\n",
              "\n",
              "    .dataframe tbody tr th {\n",
              "        vertical-align: top;\n",
              "    }\n",
              "\n",
              "    .dataframe thead th {\n",
              "        text-align: right;\n",
              "    }\n",
              "</style>\n",
              "<table border=\"1\" class=\"dataframe\">\n",
              "  <thead>\n",
              "    <tr style=\"text-align: right;\">\n",
              "      <th></th>\n",
              "      <th>product_id</th>\n",
              "      <th>Product-name</th>\n",
              "    </tr>\n",
              "  </thead>\n",
              "  <tbody>\n",
              "    <tr>\n",
              "      <th>0</th>\n",
              "      <td>50</td>\n",
              "      <td>moto 1</td>\n",
              "    </tr>\n",
              "    <tr>\n",
              "      <th>1</th>\n",
              "      <td>49</td>\n",
              "      <td>huawe 88</td>\n",
              "    </tr>\n",
              "    <tr>\n",
              "      <th>2</th>\n",
              "      <td>48</td>\n",
              "      <td>huawei 89</td>\n",
              "    </tr>\n",
              "    <tr>\n",
              "      <th>3</th>\n",
              "      <td>47</td>\n",
              "      <td>huawei 90</td>\n",
              "    </tr>\n",
              "    <tr>\n",
              "      <th>4</th>\n",
              "      <td>46</td>\n",
              "      <td>huawei 91</td>\n",
              "    </tr>\n",
              "    <tr>\n",
              "      <th>5</th>\n",
              "      <td>45</td>\n",
              "      <td>huawei 92</td>\n",
              "    </tr>\n",
              "    <tr>\n",
              "      <th>6</th>\n",
              "      <td>44</td>\n",
              "      <td>huawei 93</td>\n",
              "    </tr>\n",
              "    <tr>\n",
              "      <th>7</th>\n",
              "      <td>43</td>\n",
              "      <td>huawei 93</td>\n",
              "    </tr>\n",
              "    <tr>\n",
              "      <th>8</th>\n",
              "      <td>42</td>\n",
              "      <td>huawei 94</td>\n",
              "    </tr>\n",
              "    <tr>\n",
              "      <th>9</th>\n",
              "      <td>41</td>\n",
              "      <td>huawei 95</td>\n",
              "    </tr>\n",
              "  </tbody>\n",
              "</table>\n",
              "</div>"
            ],
            "text/plain": [
              "   product_id Product-name\n",
              "0          50       moto 1\n",
              "1          49     huawe 88\n",
              "2          48    huawei 89\n",
              "3          47    huawei 90\n",
              "4          46    huawei 91\n",
              "5          45    huawei 92\n",
              "6          44    huawei 93\n",
              "7          43    huawei 93\n",
              "8          42    huawei 94\n",
              "9          41    huawei 95"
            ]
          },
          "metadata": {
            "tags": []
          },
          "execution_count": 4
        }
      ]
    },
    {
      "cell_type": "markdown",
      "metadata": {
        "id": "0Uj_GvesdM7Z"
      },
      "source": [
        "***Shaping Data***\n",
        "video data is shaped for matrix factorization algorithm."
      ]
    },
    {
      "cell_type": "code",
      "metadata": {
        "colab": {
          "base_uri": "https://localhost:8080/"
        },
        "id": "9KD_KcwoB6J5",
        "outputId": "2786a692-81f8-41e0-9702-432d60fd9dc2"
      },
      "source": [
        "videos.shape"
      ],
      "execution_count": null,
      "outputs": [
        {
          "output_type": "execute_result",
          "data": {
            "text/plain": [
              "(48, 5)"
            ]
          },
          "metadata": {
            "tags": []
          },
          "execution_count": 26
        }
      ]
    },
    {
      "cell_type": "markdown",
      "metadata": {
        "id": "BdC5iEo_djeZ"
      },
      "source": [
        "***Importnig Second File***\n",
        "\n",
        "1.   File containing the data of User/Likes/Views Details is imported\n",
        "2.   Attributes which are not needed right now are droped for accuracy  and optimization of algorithm.\n",
        "3.   View can be seen through head function()"
      ]
    },
    {
      "cell_type": "code",
      "metadata": {
        "colab": {
          "base_uri": "https://localhost:8080/",
          "height": 712
        },
        "id": "DTdD2kqe9Ggz",
        "outputId": "fd03ac25-0585-41d6-9423-3c748f556b1b"
      },
      "source": [
        "        ratings = pd.read_csv(r'ProductCart.csv', sep=',')\n",
        "        ratings = ratings.iloc[:, :11]\n",
        "        ratings.head(20)"
      ],
      "execution_count": 6,
      "outputs": [
        {
          "output_type": "execute_result",
          "data": {
            "text/html": [
              "<div>\n",
              "<style scoped>\n",
              "    .dataframe tbody tr th:only-of-type {\n",
              "        vertical-align: middle;\n",
              "    }\n",
              "\n",
              "    .dataframe tbody tr th {\n",
              "        vertical-align: top;\n",
              "    }\n",
              "\n",
              "    .dataframe thead th {\n",
              "        text-align: right;\n",
              "    }\n",
              "</style>\n",
              "<table border=\"1\" class=\"dataframe\">\n",
              "  <thead>\n",
              "    <tr style=\"text-align: right;\">\n",
              "      <th></th>\n",
              "      <th>id</th>\n",
              "      <th>product_id</th>\n",
              "      <th>product_name</th>\n",
              "      <th>rating</th>\n",
              "      <th>product_code</th>\n",
              "      <th>product_color</th>\n",
              "      <th>color</th>\n",
              "      <th>price</th>\n",
              "      <th>quantity</th>\n",
              "      <th>user_email</th>\n",
              "      <th>session_id</th>\n",
              "    </tr>\n",
              "  </thead>\n",
              "  <tbody>\n",
              "    <tr>\n",
              "      <th>0</th>\n",
              "      <td>1</td>\n",
              "      <td>19</td>\n",
              "      <td>nokia 11</td>\n",
              "      <td>4</td>\n",
              "      <td>29</td>\n",
              "      <td>QWE123</td>\n",
              "      <td>black</td>\n",
              "      <td>300.0</td>\n",
              "      <td>1.0</td>\n",
              "      <td>muhammadsarfraz531@gmail.com</td>\n",
              "      <td>1.0</td>\n",
              "    </tr>\n",
              "    <tr>\n",
              "      <th>1</th>\n",
              "      <td>2</td>\n",
              "      <td>18</td>\n",
              "      <td>nokia 10</td>\n",
              "      <td>5</td>\n",
              "      <td>28</td>\n",
              "      <td>QWE123</td>\n",
              "      <td>blue</td>\n",
              "      <td>400.0</td>\n",
              "      <td>1.0</td>\n",
              "      <td>muhammadsarfraz531@gmail.com</td>\n",
              "      <td>1.0</td>\n",
              "    </tr>\n",
              "    <tr>\n",
              "      <th>2</th>\n",
              "      <td>3</td>\n",
              "      <td>4</td>\n",
              "      <td>HUAWEI  NOVA Z</td>\n",
              "      <td>5</td>\n",
              "      <td>15</td>\n",
              "      <td>black</td>\n",
              "      <td>purple</td>\n",
              "      <td>300.0</td>\n",
              "      <td>3.0</td>\n",
              "      <td>muhammadsarfraz531@gmail.com</td>\n",
              "      <td>1.0</td>\n",
              "    </tr>\n",
              "    <tr>\n",
              "      <th>3</th>\n",
              "      <td>4</td>\n",
              "      <td>50</td>\n",
              "      <td>moto 1</td>\n",
              "      <td>3</td>\n",
              "      <td>45</td>\n",
              "      <td>white</td>\n",
              "      <td>black</td>\n",
              "      <td>290.0</td>\n",
              "      <td>1.0</td>\n",
              "      <td>a@gmail.com</td>\n",
              "      <td>2.0</td>\n",
              "    </tr>\n",
              "    <tr>\n",
              "      <th>4</th>\n",
              "      <td>5</td>\n",
              "      <td>49</td>\n",
              "      <td>huawe 88</td>\n",
              "      <td>4</td>\n",
              "      <td>2</td>\n",
              "      <td>NaN</td>\n",
              "      <td>blue</td>\n",
              "      <td>300.0</td>\n",
              "      <td>2.0</td>\n",
              "      <td>b@gmail.com</td>\n",
              "      <td>3.0</td>\n",
              "    </tr>\n",
              "    <tr>\n",
              "      <th>5</th>\n",
              "      <td>6</td>\n",
              "      <td>48</td>\n",
              "      <td>huawei 89</td>\n",
              "      <td>5</td>\n",
              "      <td>32</td>\n",
              "      <td>black</td>\n",
              "      <td>purple</td>\n",
              "      <td>300.0</td>\n",
              "      <td>3.0</td>\n",
              "      <td>c@gmail.com</td>\n",
              "      <td>4.0</td>\n",
              "    </tr>\n",
              "    <tr>\n",
              "      <th>6</th>\n",
              "      <td>7</td>\n",
              "      <td>47</td>\n",
              "      <td>huawei 90</td>\n",
              "      <td>3</td>\n",
              "      <td>4</td>\n",
              "      <td>white</td>\n",
              "      <td>black</td>\n",
              "      <td>300.0</td>\n",
              "      <td>4.0</td>\n",
              "      <td>d@gmail.com</td>\n",
              "      <td>5.0</td>\n",
              "    </tr>\n",
              "    <tr>\n",
              "      <th>7</th>\n",
              "      <td>8</td>\n",
              "      <td>46</td>\n",
              "      <td>huawei 91</td>\n",
              "      <td>2</td>\n",
              "      <td>24</td>\n",
              "      <td>black</td>\n",
              "      <td>blue</td>\n",
              "      <td>400.0</td>\n",
              "      <td>5.0</td>\n",
              "      <td>e@gmail.com</td>\n",
              "      <td>6.0</td>\n",
              "    </tr>\n",
              "    <tr>\n",
              "      <th>8</th>\n",
              "      <td>9</td>\n",
              "      <td>45</td>\n",
              "      <td>huawei 92</td>\n",
              "      <td>1</td>\n",
              "      <td>2</td>\n",
              "      <td>white</td>\n",
              "      <td>purple</td>\n",
              "      <td>300.0</td>\n",
              "      <td>4.0</td>\n",
              "      <td>f@gmail.com</td>\n",
              "      <td>7.0</td>\n",
              "    </tr>\n",
              "    <tr>\n",
              "      <th>9</th>\n",
              "      <td>10</td>\n",
              "      <td>44</td>\n",
              "      <td>huawei 93</td>\n",
              "      <td>3</td>\n",
              "      <td>43</td>\n",
              "      <td>black</td>\n",
              "      <td>black</td>\n",
              "      <td>300.0</td>\n",
              "      <td>3.0</td>\n",
              "      <td>g@gmail.com</td>\n",
              "      <td>8.0</td>\n",
              "    </tr>\n",
              "    <tr>\n",
              "      <th>10</th>\n",
              "      <td>11</td>\n",
              "      <td>43</td>\n",
              "      <td>huawei 93</td>\n",
              "      <td>4</td>\n",
              "      <td>25</td>\n",
              "      <td>white</td>\n",
              "      <td>blue</td>\n",
              "      <td>400.0</td>\n",
              "      <td>2.0</td>\n",
              "      <td>h@gmail.com</td>\n",
              "      <td>9.0</td>\n",
              "    </tr>\n",
              "    <tr>\n",
              "      <th>11</th>\n",
              "      <td>12</td>\n",
              "      <td>42</td>\n",
              "      <td>huawei 94</td>\n",
              "      <td>5</td>\n",
              "      <td>2</td>\n",
              "      <td>black</td>\n",
              "      <td>purple</td>\n",
              "      <td>300.0</td>\n",
              "      <td>1.0</td>\n",
              "      <td>i@gmail.com</td>\n",
              "      <td>10.0</td>\n",
              "    </tr>\n",
              "    <tr>\n",
              "      <th>12</th>\n",
              "      <td>13</td>\n",
              "      <td>41</td>\n",
              "      <td>huawei 95</td>\n",
              "      <td>3</td>\n",
              "      <td>r</td>\n",
              "      <td>white</td>\n",
              "      <td>blue</td>\n",
              "      <td>300.0</td>\n",
              "      <td>2.0</td>\n",
              "      <td>j@gmail.com</td>\n",
              "      <td>11.0</td>\n",
              "    </tr>\n",
              "    <tr>\n",
              "      <th>13</th>\n",
              "      <td>14</td>\n",
              "      <td>40</td>\n",
              "      <td>huawe 97</td>\n",
              "      <td>5</td>\n",
              "      <td>23</td>\n",
              "      <td>black</td>\n",
              "      <td>purple</td>\n",
              "      <td>400.0</td>\n",
              "      <td>3.0</td>\n",
              "      <td>k@gmail.com</td>\n",
              "      <td>12.0</td>\n",
              "    </tr>\n",
              "    <tr>\n",
              "      <th>14</th>\n",
              "      <td>15</td>\n",
              "      <td>39</td>\n",
              "      <td>huawei 98</td>\n",
              "      <td>3</td>\n",
              "      <td>5</td>\n",
              "      <td>white</td>\n",
              "      <td>black</td>\n",
              "      <td>300.0</td>\n",
              "      <td>4.0</td>\n",
              "      <td>l@gmail.com</td>\n",
              "      <td>13.0</td>\n",
              "    </tr>\n",
              "    <tr>\n",
              "      <th>15</th>\n",
              "      <td>16</td>\n",
              "      <td>38</td>\n",
              "      <td>huawei 99</td>\n",
              "      <td>2</td>\n",
              "      <td>24</td>\n",
              "      <td>black</td>\n",
              "      <td>blue</td>\n",
              "      <td>300.0</td>\n",
              "      <td>5.0</td>\n",
              "      <td>m@gmail.com</td>\n",
              "      <td>14.0</td>\n",
              "    </tr>\n",
              "    <tr>\n",
              "      <th>16</th>\n",
              "      <td>17</td>\n",
              "      <td>37</td>\n",
              "      <td>huawe 3</td>\n",
              "      <td>4</td>\n",
              "      <td>53</td>\n",
              "      <td>blue</td>\n",
              "      <td>purple</td>\n",
              "      <td>400.0</td>\n",
              "      <td>5.0</td>\n",
              "      <td>n@gmail.com</td>\n",
              "      <td>15.0</td>\n",
              "    </tr>\n",
              "    <tr>\n",
              "      <th>17</th>\n",
              "      <td>19</td>\n",
              "      <td>36</td>\n",
              "      <td>samung 14</td>\n",
              "      <td>2</td>\n",
              "      <td>5</td>\n",
              "      <td>purple</td>\n",
              "      <td>black</td>\n",
              "      <td>300.0</td>\n",
              "      <td>5.0</td>\n",
              "      <td>o@gmail.com</td>\n",
              "      <td>16.0</td>\n",
              "    </tr>\n",
              "    <tr>\n",
              "      <th>18</th>\n",
              "      <td>20</td>\n",
              "      <td>35</td>\n",
              "      <td>samsung 13</td>\n",
              "      <td>3</td>\n",
              "      <td>35</td>\n",
              "      <td>black</td>\n",
              "      <td>blue</td>\n",
              "      <td>300.0</td>\n",
              "      <td>4.0</td>\n",
              "      <td>a@gmail.com</td>\n",
              "      <td>2.0</td>\n",
              "    </tr>\n",
              "    <tr>\n",
              "      <th>19</th>\n",
              "      <td>21</td>\n",
              "      <td>34</td>\n",
              "      <td>samsung 12</td>\n",
              "      <td>2</td>\n",
              "      <td>43</td>\n",
              "      <td>blue</td>\n",
              "      <td>purple</td>\n",
              "      <td>400.0</td>\n",
              "      <td>3.0</td>\n",
              "      <td>b@gmail.com</td>\n",
              "      <td>3.0</td>\n",
              "    </tr>\n",
              "  </tbody>\n",
              "</table>\n",
              "</div>"
            ],
            "text/plain": [
              "    id  product_id  ...                    user_email  session_id\n",
              "0    1          19  ...  muhammadsarfraz531@gmail.com         1.0\n",
              "1    2          18  ...  muhammadsarfraz531@gmail.com         1.0\n",
              "2    3           4  ...  muhammadsarfraz531@gmail.com         1.0\n",
              "3    4          50  ...                   a@gmail.com         2.0\n",
              "4    5          49  ...                   b@gmail.com         3.0\n",
              "5    6          48  ...                   c@gmail.com         4.0\n",
              "6    7          47  ...                   d@gmail.com         5.0\n",
              "7    8          46  ...                   e@gmail.com         6.0\n",
              "8    9          45  ...                   f@gmail.com         7.0\n",
              "9   10          44  ...                   g@gmail.com         8.0\n",
              "10  11          43  ...                   h@gmail.com         9.0\n",
              "11  12          42  ...                   i@gmail.com        10.0\n",
              "12  13          41  ...                   j@gmail.com        11.0\n",
              "13  14          40  ...                   k@gmail.com        12.0\n",
              "14  15          39  ...                   l@gmail.com        13.0\n",
              "15  16          38  ...                   m@gmail.com        14.0\n",
              "16  17          37  ...                   n@gmail.com        15.0\n",
              "17  19          36  ...                   o@gmail.com        16.0\n",
              "18  20          35  ...                   a@gmail.com         2.0\n",
              "19  21          34  ...                   b@gmail.com         3.0\n",
              "\n",
              "[20 rows x 11 columns]"
            ]
          },
          "metadata": {
            "tags": []
          },
          "execution_count": 6
        }
      ]
    },
    {
      "cell_type": "markdown",
      "metadata": {
        "id": "RjYbLAtad2o9"
      },
      "source": [
        "***Shaping Data***"
      ]
    },
    {
      "cell_type": "code",
      "metadata": {
        "colab": {
          "base_uri": "https://localhost:8080/"
        },
        "id": "i1mm44fiCAPm",
        "outputId": "8512a469-9b7e-4a86-85fb-fa0aceeffc8d"
      },
      "source": [
        "ratings.shape"
      ],
      "execution_count": 7,
      "outputs": [
        {
          "output_type": "execute_result",
          "data": {
            "text/plain": [
              "(34, 11)"
            ]
          },
          "metadata": {
            "tags": []
          },
          "execution_count": 7
        }
      ]
    },
    {
      "cell_type": "markdown",
      "metadata": {
        "id": "J2DG6JZrd8HH"
      },
      "source": [
        "***Merging Data***\n",
        "\n",
        "csv files are merged for matrix factorzation algorithm, which willhelp shaping the matrix."
      ]
    },
    {
      "cell_type": "code",
      "metadata": {
        "colab": {
          "base_uri": "https://localhost:8080/",
          "height": 537
        },
        "id": "Juk50S47_H30",
        "outputId": "97ea4e3a-9cc0-4228-fc79-45a0727763d0"
      },
      "source": [
        "df = pd.merge(products, ratings, on ='product_id')\n",
        "df1= df.drop_duplicates(['product_id','Product-name'])\n",
        "df1= df.drop_duplicates(['Product-name','session_id'])\n",
        "df1.head(10)"
      ],
      "execution_count": 10,
      "outputs": [
        {
          "output_type": "execute_result",
          "data": {
            "text/html": [
              "<div>\n",
              "<style scoped>\n",
              "    .dataframe tbody tr th:only-of-type {\n",
              "        vertical-align: middle;\n",
              "    }\n",
              "\n",
              "    .dataframe tbody tr th {\n",
              "        vertical-align: top;\n",
              "    }\n",
              "\n",
              "    .dataframe thead th {\n",
              "        text-align: right;\n",
              "    }\n",
              "</style>\n",
              "<table border=\"1\" class=\"dataframe\">\n",
              "  <thead>\n",
              "    <tr style=\"text-align: right;\">\n",
              "      <th></th>\n",
              "      <th>product_id</th>\n",
              "      <th>Product-name</th>\n",
              "      <th>id</th>\n",
              "      <th>product_name</th>\n",
              "      <th>rating</th>\n",
              "      <th>product_code</th>\n",
              "      <th>product_color</th>\n",
              "      <th>color</th>\n",
              "      <th>price</th>\n",
              "      <th>quantity</th>\n",
              "      <th>user_email</th>\n",
              "      <th>session_id</th>\n",
              "    </tr>\n",
              "  </thead>\n",
              "  <tbody>\n",
              "    <tr>\n",
              "      <th>0</th>\n",
              "      <td>50</td>\n",
              "      <td>moto 1</td>\n",
              "      <td>4</td>\n",
              "      <td>moto 1</td>\n",
              "      <td>3</td>\n",
              "      <td>45</td>\n",
              "      <td>white</td>\n",
              "      <td>black</td>\n",
              "      <td>290.0</td>\n",
              "      <td>1.0</td>\n",
              "      <td>a@gmail.com</td>\n",
              "      <td>2.0</td>\n",
              "    </tr>\n",
              "    <tr>\n",
              "      <th>1</th>\n",
              "      <td>49</td>\n",
              "      <td>huawe 88</td>\n",
              "      <td>5</td>\n",
              "      <td>huawe 88</td>\n",
              "      <td>4</td>\n",
              "      <td>2</td>\n",
              "      <td>NaN</td>\n",
              "      <td>blue</td>\n",
              "      <td>300.0</td>\n",
              "      <td>2.0</td>\n",
              "      <td>b@gmail.com</td>\n",
              "      <td>3.0</td>\n",
              "    </tr>\n",
              "    <tr>\n",
              "      <th>2</th>\n",
              "      <td>48</td>\n",
              "      <td>huawei 89</td>\n",
              "      <td>6</td>\n",
              "      <td>huawei 89</td>\n",
              "      <td>5</td>\n",
              "      <td>32</td>\n",
              "      <td>black</td>\n",
              "      <td>purple</td>\n",
              "      <td>300.0</td>\n",
              "      <td>3.0</td>\n",
              "      <td>c@gmail.com</td>\n",
              "      <td>4.0</td>\n",
              "    </tr>\n",
              "    <tr>\n",
              "      <th>3</th>\n",
              "      <td>47</td>\n",
              "      <td>huawei 90</td>\n",
              "      <td>7</td>\n",
              "      <td>huawei 90</td>\n",
              "      <td>3</td>\n",
              "      <td>4</td>\n",
              "      <td>white</td>\n",
              "      <td>black</td>\n",
              "      <td>300.0</td>\n",
              "      <td>4.0</td>\n",
              "      <td>d@gmail.com</td>\n",
              "      <td>5.0</td>\n",
              "    </tr>\n",
              "    <tr>\n",
              "      <th>4</th>\n",
              "      <td>46</td>\n",
              "      <td>huawei 91</td>\n",
              "      <td>8</td>\n",
              "      <td>huawei 91</td>\n",
              "      <td>2</td>\n",
              "      <td>24</td>\n",
              "      <td>black</td>\n",
              "      <td>blue</td>\n",
              "      <td>400.0</td>\n",
              "      <td>5.0</td>\n",
              "      <td>e@gmail.com</td>\n",
              "      <td>6.0</td>\n",
              "    </tr>\n",
              "    <tr>\n",
              "      <th>5</th>\n",
              "      <td>45</td>\n",
              "      <td>huawei 92</td>\n",
              "      <td>9</td>\n",
              "      <td>huawei 92</td>\n",
              "      <td>1</td>\n",
              "      <td>2</td>\n",
              "      <td>white</td>\n",
              "      <td>purple</td>\n",
              "      <td>300.0</td>\n",
              "      <td>4.0</td>\n",
              "      <td>f@gmail.com</td>\n",
              "      <td>7.0</td>\n",
              "    </tr>\n",
              "    <tr>\n",
              "      <th>6</th>\n",
              "      <td>44</td>\n",
              "      <td>huawei 93</td>\n",
              "      <td>10</td>\n",
              "      <td>huawei 93</td>\n",
              "      <td>3</td>\n",
              "      <td>43</td>\n",
              "      <td>black</td>\n",
              "      <td>black</td>\n",
              "      <td>300.0</td>\n",
              "      <td>3.0</td>\n",
              "      <td>g@gmail.com</td>\n",
              "      <td>8.0</td>\n",
              "    </tr>\n",
              "    <tr>\n",
              "      <th>7</th>\n",
              "      <td>43</td>\n",
              "      <td>huawei 93</td>\n",
              "      <td>11</td>\n",
              "      <td>huawei 93</td>\n",
              "      <td>4</td>\n",
              "      <td>25</td>\n",
              "      <td>white</td>\n",
              "      <td>blue</td>\n",
              "      <td>400.0</td>\n",
              "      <td>2.0</td>\n",
              "      <td>h@gmail.com</td>\n",
              "      <td>9.0</td>\n",
              "    </tr>\n",
              "    <tr>\n",
              "      <th>8</th>\n",
              "      <td>42</td>\n",
              "      <td>huawei 94</td>\n",
              "      <td>12</td>\n",
              "      <td>huawei 94</td>\n",
              "      <td>5</td>\n",
              "      <td>2</td>\n",
              "      <td>black</td>\n",
              "      <td>purple</td>\n",
              "      <td>300.0</td>\n",
              "      <td>1.0</td>\n",
              "      <td>i@gmail.com</td>\n",
              "      <td>10.0</td>\n",
              "    </tr>\n",
              "    <tr>\n",
              "      <th>9</th>\n",
              "      <td>41</td>\n",
              "      <td>huawei 95</td>\n",
              "      <td>13</td>\n",
              "      <td>huawei 95</td>\n",
              "      <td>3</td>\n",
              "      <td>r</td>\n",
              "      <td>white</td>\n",
              "      <td>blue</td>\n",
              "      <td>300.0</td>\n",
              "      <td>2.0</td>\n",
              "      <td>j@gmail.com</td>\n",
              "      <td>11.0</td>\n",
              "    </tr>\n",
              "  </tbody>\n",
              "</table>\n",
              "</div>"
            ],
            "text/plain": [
              "   product_id Product-name  id  ... quantity   user_email session_id\n",
              "0          50       moto 1   4  ...      1.0  a@gmail.com        2.0\n",
              "1          49     huawe 88   5  ...      2.0  b@gmail.com        3.0\n",
              "2          48    huawei 89   6  ...      3.0  c@gmail.com        4.0\n",
              "3          47    huawei 90   7  ...      4.0  d@gmail.com        5.0\n",
              "4          46    huawei 91   8  ...      5.0  e@gmail.com        6.0\n",
              "5          45    huawei 92   9  ...      4.0  f@gmail.com        7.0\n",
              "6          44    huawei 93  10  ...      3.0  g@gmail.com        8.0\n",
              "7          43    huawei 93  11  ...      2.0  h@gmail.com        9.0\n",
              "8          42    huawei 94  12  ...      1.0  i@gmail.com       10.0\n",
              "9          41    huawei 95  13  ...      2.0  j@gmail.com       11.0\n",
              "\n",
              "[10 rows x 12 columns]"
            ]
          },
          "metadata": {
            "tags": []
          },
          "execution_count": 10
        }
      ]
    },
    {
      "cell_type": "code",
      "metadata": {
        "colab": {
          "base_uri": "https://localhost:8080/"
        },
        "id": "YC7zNOM-_N06",
        "outputId": "bdfb87a3-4732-4758-b745-52ae380b6dad"
      },
      "source": [
        "        df1.shape\n"
      ],
      "execution_count": 11,
      "outputs": [
        {
          "output_type": "execute_result",
          "data": {
            "text/plain": [
              "(34, 12)"
            ]
          },
          "metadata": {
            "tags": []
          },
          "execution_count": 11
        }
      ]
    },
    {
      "cell_type": "code",
      "metadata": {
        "colab": {
          "base_uri": "https://localhost:8080/"
        },
        "id": "sQRu22QNDog3",
        "outputId": "d335a25d-a5e3-43c9-d54b-5ede7858f6dc"
      },
      "source": [
        "#MATRIX FACTORIZATION\n",
        "products_matrix = df.pivot_table(index = 'session_id', columns = 'product_id', values= 'rating').fillna(0)\n",
        "products_matrix.head()\n",
        "products_matrix.shape"
      ],
      "execution_count": 13,
      "outputs": [
        {
          "output_type": "execute_result",
          "data": {
            "text/plain": [
              "(17, 33)"
            ]
          },
          "metadata": {
            "tags": []
          },
          "execution_count": 13
        }
      ]
    },
    {
      "cell_type": "code",
      "metadata": {
        "colab": {
          "base_uri": "https://localhost:8080/"
        },
        "id": "yVOeJI6tDp83",
        "outputId": "5e41db1f-879b-458f-cb97-a29a5558099d"
      },
      "source": [
        "X = products_matrix.values.T\n",
        "X.shape"
      ],
      "execution_count": 15,
      "outputs": [
        {
          "output_type": "execute_result",
          "data": {
            "text/plain": [
              "(33, 17)"
            ]
          },
          "metadata": {
            "tags": []
          },
          "execution_count": 15
        }
      ]
    },
    {
      "cell_type": "markdown",
      "metadata": {
        "id": "alz88tAhWjNs"
      },
      "source": [
        "**SVD**\n",
        "\n",
        "When it comes to dimensionality reduction, the Singular Value Decomposition (SVD) is a popular method in linear algebra for matrix factorization in machine learning. Such a method shrinks the space dimension from N-dimension to K-dimension (where K<N) and reduces the number of features. SVD constructs a matrix with the row of users and columns of items and the elements are given by the users’ ratings. Singular value decomposition decomposes a matrix into three other matrices and extracts the factors from the factorization of a high-level (user-item-rating) matrix."
      ]
    },
    {
      "cell_type": "code",
      "metadata": {
        "colab": {
          "base_uri": "https://localhost:8080/"
        },
        "id": "jCVuqvTQ_RJw",
        "outputId": "46ccc567-03dc-4ede-b6e8-580bac34d38c"
      },
      "source": [
        "SVD = TruncatedSVD(n_components=12, random_state=100)\n",
        "matrix = SVD.fit_transform(X)\n",
        "matrix.shape"
      ],
      "execution_count": 16,
      "outputs": [
        {
          "output_type": "execute_result",
          "data": {
            "text/plain": [
              "(33, 12)"
            ]
          },
          "metadata": {
            "tags": []
          },
          "execution_count": 16
        }
      ]
    },
    {
      "cell_type": "code",
      "metadata": {
        "colab": {
          "base_uri": "https://localhost:8080/"
        },
        "id": "GFA-_c-GDk_v",
        "outputId": "13b74433-20e0-4a6e-98e3-6d6fd5852a55"
      },
      "source": [
        "SVD = TruncatedSVD(n_components=12, random_state=100)\n",
        "matrix = SVD.fit_transform(X)\n",
        "matrix.shape\n"
      ],
      "execution_count": 18,
      "outputs": [
        {
          "output_type": "execute_result",
          "data": {
            "text/plain": [
              "(33, 12)"
            ]
          },
          "metadata": {
            "tags": []
          },
          "execution_count": 18
        }
      ]
    },
    {
      "cell_type": "code",
      "metadata": {
        "id": "lEJhCy-o1NI8"
      },
      "source": [
        "import warnings\n",
        "warnings.filterwarnings(\"ignore\",category =RuntimeWarning)"
      ],
      "execution_count": 19,
      "outputs": []
    },
    {
      "cell_type": "code",
      "metadata": {
        "id": "ALsEBken1dZP",
        "outputId": "7114993d-2683-4eac-b753-519f32f49a12",
        "colab": {
          "base_uri": "https://localhost:8080/"
        }
      },
      "source": [
        "corr = np.corrcoef(matrix)\n",
        "corr.shape"
      ],
      "execution_count": 22,
      "outputs": [
        {
          "output_type": "execute_result",
          "data": {
            "text/plain": [
              "(33, 33)"
            ]
          },
          "metadata": {
            "tags": []
          },
          "execution_count": 22
        }
      ]
    },
    {
      "cell_type": "code",
      "metadata": {
        "id": "yK_HP6o51h3m"
      },
      "source": [
        "title = products_matrix.columns\n",
        "title_list = list(title)\n",
        "new_user = title_list.index(21)\n",
        "corr_new_user  = corr[new_user]"
      ],
      "execution_count": 23,
      "outputs": []
    },
    {
      "cell_type": "markdown",
      "metadata": {
        "id": "NQfZKGGwWxhw"
      },
      "source": [
        "***Visit for details***\n",
        "\n",
        "https://towardsdatascience.com/recommender-system-singular-value-decomposition-svd-truncated-svd-97096338f361"
      ]
    },
    {
      "cell_type": "code",
      "metadata": {
        "colab": {
          "base_uri": "https://localhost:8080/"
        },
        "id": "c72gzeT7_eOP",
        "outputId": "980950f8-3433-4c7e-8297-a1db5f3e90ce"
      },
      "source": [
        "   # Correlation coeficient\n",
        "title = products_matrix.columns\n",
        "\n",
        "\n",
        "print('             |***************************************************|')\n",
        "print('             |************ALGORITHM RESULT IS HERE***************|')\n",
        "print('             |***************************************************|')\n",
        "title_list = list(title)\n",
        "print ('from list of refined matrixes values of User/products/# of bought:')\n",
        "print('*******************************')\n",
        "print (title_list)\n",
        "print('*******************************')\n",
        "print ('for new each new user at index:')\n",
        "new_user = title_list.index(21)\n",
        "corr_new_user  = corr[new_user]\n",
        "print('*******************************')\n",
        "print (corr_new_user)\n",
        "print('*******************************')\n",
        "print ('Array of Similar Products will be on indexes:')\n",
        "print('*******************************')\n",
        "print(list(title[(corr_new_user >=0.1)]))\n",
        "print('            ****************************************************************************')\n",
        "print('            *** You Can Change Data from CSV File to view Different Result Good Luck ***')\n",
        "print('            ****************************************************************************')"
      ],
      "execution_count": 26,
      "outputs": [
        {
          "output_type": "stream",
          "text": [
            "             |***************************************************|\n",
            "             |************ALGORITHM RESULT IS HERE***************|\n",
            "             |***************************************************|\n",
            "from list of refined matrixes values of User/products/# of bought:\n",
            "*******************************\n",
            "[4, 18, 19, 21, 22, 23, 24, 25, 26, 27, 28, 29, 30, 31, 32, 33, 34, 35, 36, 37, 38, 39, 40, 41, 42, 43, 44, 45, 46, 47, 48, 49, 50]\n",
            "*******************************\n",
            "for new each new user at index:\n",
            "*******************************\n",
            "[-0.11337263 -0.11337263 -0.11337263  1.         -0.27084319 -0.11498562\n",
            "  0.21910096 -0.00845309  0.39234372 -0.10855247  0.77689597 -0.14948706\n",
            "  0.27084319 -0.31316038  0.11619824 -0.21379261 -0.23215992  0.03751055\n",
            "  0.09246166 -0.27084319 -0.12282047  0.01278733 -0.00845309  0.39234372\n",
            " -0.10855247  0.77689597 -0.14948706  0.27084319 -0.31316038  0.11619824\n",
            " -0.21379261 -0.23215992  0.03751055]\n",
            "*******************************\n",
            "Array of Similar Products will be on indexes:\n",
            "*******************************\n",
            "[21, 24, 26, 28, 30, 32, 41, 43, 45, 47]\n",
            "            ****************************************************************************\n",
            "            *** You Can Change Data from CSV File to view Different Result Good Luck ***\n",
            "            ****************************************************************************\n"
          ],
          "name": "stdout"
        }
      ]
    }
  ]
}